{
 "cells": [
  {
   "cell_type": "markdown",
   "metadata": {},
   "source": [
    "Permutation"
   ]
  },
  {
   "cell_type": "code",
   "execution_count": 14,
   "metadata": {},
   "outputs": [
    {
     "name": "stdout",
     "output_type": "stream",
     "text": [
      "[['a', 'b', 'c'], ['a', 'c', 'b'], ['b', 'a', 'c'], ['b', 'c', 'a'], ['c', 'b', 'a'], ['c', 'a', 'b']]\n",
      "count =  6\n"
     ]
    }
   ],
   "source": [
    "test = ['a', 'b', 'c']\n",
    "\n",
    "def Perm(element):\n",
    "    s = []\n",
    "    if len(element) == 1:\n",
    "        return[element]\n",
    "    else:\n",
    "        for i in range(len(element)):\n",
    "            element[i], element[0] = element[0], element[i]\n",
    "            temp = Perm(element[1:])\n",
    "            for j in temp:\n",
    "                s.append([element[0]]+j)\n",
    "            element[i], element[0] = element[0], element[i]\n",
    "    return s\n",
    "\n",
    "print(Perm(test))\n",
    "print('count = ', len(Perm(test)))"
   ]
  },
  {
   "cell_type": "code",
   "execution_count": 2,
   "metadata": {},
   "outputs": [
    {
     "data": {
      "text/plain": [
       "[['a', 'b', 'c'],\n",
       " ['a', 'c', 'b'],\n",
       " ['b', 'a', 'c'],\n",
       " ['b', 'c', 'a'],\n",
       " ['c', 'b', 'a'],\n",
       " ['c', 'a', 'b']]"
      ]
     },
     "execution_count": 2,
     "metadata": {},
     "output_type": "execute_result"
    }
   ],
   "source": [
    "def Perm(list):\n",
    "    s = []\n",
    "    if len(list) == 1:\n",
    "        return[list]\n",
    "    else:\n",
    "        for i in range(len(list)):\n",
    "            list[i], list[0] = list[0], list[i]\n",
    "            tmp = Perm(list[1:])\n",
    "            for j in tmp:\n",
    "                s.append([list[0]] + j)\n",
    "            list[0], list[i] = list[i], list[0]\n",
    "    return s\n",
    "\n",
    "Perm(['a', 'b', 'c'])"
   ]
  },
  {
   "cell_type": "markdown",
   "metadata": {},
   "source": [
    "Euclidean_algorithm"
   ]
  },
  {
   "cell_type": "code",
   "execution_count": 8,
   "metadata": {},
   "outputs": [
    {
     "name": "stdout",
     "output_type": "stream",
     "text": [
      "6\n"
     ]
    }
   ],
   "source": [
    "number1 = 84\n",
    "number2 = 18\n",
    "\n",
    "def GCD(number1, number2):\n",
    "    if number1 < number2:\n",
    "        number1, number2 = number2, number1\n",
    "    number = number1 % number2\n",
    "    if number == 0:\n",
    "        return number2\n",
    "    else:\n",
    "        return GCD(number2, number)\n",
    "\n",
    "print(GCD(number1, number2))"
   ]
  },
  {
   "cell_type": "markdown",
   "metadata": {},
   "source": [
    "Fibonacci"
   ]
  },
  {
   "cell_type": "code",
   "execution_count": 7,
   "metadata": {},
   "outputs": [
    {
     "name": "stdout",
     "output_type": "stream",
     "text": [
      "8\n",
      "0,1,1,2,3,5,8\n"
     ]
    }
   ],
   "source": [
    "n = 6\n",
    "list = []\n",
    "\n",
    "def Fib(n):\n",
    "    if n == 0:\n",
    "        return n\n",
    "    elif n == 1:\n",
    "        return n\n",
    "    else:\n",
    "        return Fib(n-1) + Fib(n-2)\n",
    "\n",
    "\n",
    "print(Fib(n))\n",
    "for i in range(n):\n",
    "    print(Fib(i), end=',')\n",
    "print(Fib(n))"
   ]
  },
  {
   "cell_type": "markdown",
   "metadata": {},
   "source": [
    "Hanoi"
   ]
  },
  {
   "cell_type": "code",
   "execution_count": 11,
   "metadata": {},
   "outputs": [
    {
     "name": "stdout",
     "output_type": "stream",
     "text": [
      "a --> b\n",
      "a --> c\n",
      "b --> c\n",
      "3\n"
     ]
    }
   ],
   "source": [
    "count = 0\n",
    "\n",
    "def Hanoi(n, a, b, c):\n",
    "    global count\n",
    "    if n == 1:\n",
    "        count += 1\n",
    "        print(f'{a} --> {c}')\n",
    "    else:\n",
    "        Hanoi(n-1, a, c, b)\n",
    "        Hanoi(1, a, b, c)\n",
    "        Hanoi(n-1, b, a, c)\n",
    "\n",
    "Hanoi(2, 'a', 'b', 'c')\n",
    "print(count)"
   ]
  },
  {
   "cell_type": "markdown",
   "metadata": {},
   "source": [
    "Merge Two Sorted Lists"
   ]
  },
  {
   "cell_type": "code",
   "execution_count": 15,
   "metadata": {},
   "outputs": [
    {
     "name": "stdout",
     "output_type": "stream",
     "text": [
      "[1, 3, 4] [3, 4, 5]\n",
      "[3, 4, 5] [4]\n",
      "[4] [5]\n",
      "[1, 1, 3, 3, 4, 4, 5]\n"
     ]
    }
   ],
   "source": [
    "answer = []\n",
    "list1 = [1,3,4,5]\n",
    "list2 = [1,3,4]\n",
    "\n",
    "\n",
    "def mergeTwoList(list1, list2):\n",
    "    global answer\n",
    "    if len(list1) == 0:\n",
    "        answer += list2\n",
    "        return\n",
    "    elif len(list2) == 0:\n",
    "        answer += list1\n",
    "        return\n",
    "\n",
    "    if list1[0] > list2[0]:\n",
    "        list1, list2 = list2, list1\n",
    "        print(list1, list2)\n",
    "    answer.append(list1[0])\n",
    "    mergeTwoList(list1[1:], list2)  \n",
    "\n",
    "mergeTwoList(list1, list2)\n",
    "print(answer) \n",
    "\n"
   ]
  },
  {
   "cell_type": "markdown",
   "metadata": {},
   "source": [
    "sum from 1 to n"
   ]
  },
  {
   "cell_type": "code",
   "execution_count": 5,
   "metadata": {},
   "outputs": [
    {
     "name": "stdout",
     "output_type": "stream",
     "text": [
      "10\n"
     ]
    }
   ],
   "source": [
    "def sum1(n):\n",
    "    if n == 1:\n",
    "        return n\n",
    "    else:\n",
    "        return n + sum1(n-1)\n",
    "\n",
    "print(sum1(4))"
   ]
  },
  {
   "cell_type": "markdown",
   "metadata": {},
   "source": [
    "1+2-3+4...+n"
   ]
  },
  {
   "cell_type": "code",
   "execution_count": 2,
   "metadata": {},
   "outputs": [
    {
     "name": "stdout",
     "output_type": "stream",
     "text": [
      "-3\n"
     ]
    }
   ],
   "source": [
    "def Alternating(n):\n",
    "    if n == 1:\n",
    "        return n\n",
    "    if n % 2 == 0:\n",
    "        return Alternating(n-1) - n\n",
    "    else:\n",
    "        return Alternating(n-1) + n\n",
    "\n",
    "print(Alternating(6))"
   ]
  },
  {
   "cell_type": "markdown",
   "metadata": {},
   "source": [
    "1+4+9+16+....+n*n"
   ]
  },
  {
   "cell_type": "code",
   "execution_count": 3,
   "metadata": {},
   "outputs": [
    {
     "name": "stdout",
     "output_type": "stream",
     "text": [
      "30\n"
     ]
    }
   ],
   "source": [
    "def squareSum(n):\n",
    "    if n == 1:\n",
    "        return n\n",
    "    else:\n",
    "        return squareSum(n-1) + n*n\n",
    "\n",
    "print(squareSum(4))"
   ]
  },
  {
   "cell_type": "markdown",
   "metadata": {},
   "source": [
    "n!  ( 階層函式)"
   ]
  },
  {
   "cell_type": "code",
   "execution_count": 5,
   "metadata": {},
   "outputs": [
    {
     "name": "stdout",
     "output_type": "stream",
     "text": [
      "24\n"
     ]
    }
   ],
   "source": [
    "def hierarchy(n):\n",
    "    if n == 1:\n",
    "        return n\n",
    "    else:\n",
    "        return n * hierarchy(n-1)\n",
    "\n",
    "print(hierarchy(4))"
   ]
  },
  {
   "cell_type": "markdown",
   "metadata": {},
   "source": [
    "base^exp"
   ]
  },
  {
   "cell_type": "code",
   "execution_count": 10,
   "metadata": {},
   "outputs": [
    {
     "name": "stdout",
     "output_type": "stream",
     "text": [
      "1024\n"
     ]
    }
   ],
   "source": [
    "def power(base, exp):\n",
    "    if exp == 0:\n",
    "        return 1\n",
    "    else:\n",
    "        return base * power(base, exp-1)\n",
    "\n",
    "print(power(2,10)) "
   ]
  },
  {
   "cell_type": "markdown",
   "metadata": {},
   "source": [
    "frog jump"
   ]
  },
  {
   "cell_type": "code",
   "execution_count": 14,
   "metadata": {},
   "outputs": [
    {
     "name": "stdout",
     "output_type": "stream",
     "text": [
      "8\n"
     ]
    }
   ],
   "source": [
    "def frog(n):\n",
    "    if n == 1:\n",
    "        return 1\n",
    "    elif n == 2:\n",
    "        return 2\n",
    "    else:\n",
    "        return frog(n-1) + frog(n-2)\n",
    "\n",
    "print(frog(5))"
   ]
  },
  {
   "cell_type": "markdown",
   "metadata": {},
   "source": [
    ". 如果 N <= 100, 那麼 f91(N) = f91( f91( N+11) )\n",
    "\n",
    ". 如果 N >= 101, 那麼 f91(N) = N-10"
   ]
  },
  {
   "cell_type": "code",
   "execution_count": 18,
   "metadata": {},
   "outputs": [
    {
     "data": {
      "text/plain": [
       "91"
      ]
     },
     "execution_count": 18,
     "metadata": {},
     "output_type": "execute_result"
    }
   ],
   "source": [
    "def f91(n):\n",
    "    if n <= 100:\n",
    "        return f91(f91(n+11))\n",
    "    else:\n",
    "        return n-10\n",
    "\n",
    "f91(91)\n"
   ]
  },
  {
   "cell_type": "markdown",
   "metadata": {},
   "source": [
    "binary search algorithm"
   ]
  },
  {
   "cell_type": "code",
   "execution_count": 3,
   "metadata": {},
   "outputs": [
    {
     "data": {
      "text/plain": [
       "6"
      ]
     },
     "execution_count": 3,
     "metadata": {},
     "output_type": "execute_result"
    }
   ],
   "source": [
    "def binary_search(list, start, end, key):\n",
    "    mid = (end + start) // 2\n",
    "    if key == list[mid]:\n",
    "        return mid\n",
    "    elif key > list[mid]:\n",
    "        return binary_search(list, mid, end, key)\n",
    "    else:\n",
    "        return binary_search(list, start, mid, key)\n",
    "\n",
    "list = [1,3,4,6,7,8,10,13,14]\n",
    "start = 0\n",
    "end = len(list)\n",
    "key = 10\n",
    "\n",
    "binary_search(list, start, end, key)"
   ]
  },
  {
   "cell_type": "code",
   "execution_count": 3,
   "metadata": {},
   "outputs": [
    {
     "data": {
      "text/plain": [
       "6"
      ]
     },
     "execution_count": 3,
     "metadata": {},
     "output_type": "execute_result"
    }
   ],
   "source": [
    "def bin_search(list, start, end, key):\n",
    "    mid = (end + start) // 2\n",
    "    if key == list[mid]:\n",
    "        return mid\n",
    "    elif key > mid:\n",
    "        return bin_search(list, mid, end, key)\n",
    "    else:\n",
    "        return bin_search(list, start, mid, key)\n",
    "\n",
    "\n",
    "bin_search([1,3,4,6,7,8,10,13,14], 0, len([1,3,4,6,7,8,10,13,14]), 10)"
   ]
  }
 ],
 "metadata": {
  "kernelspec": {
   "display_name": "Python 3.8.10 64-bit",
   "language": "python",
   "name": "python3"
  },
  "language_info": {
   "codemirror_mode": {
    "name": "ipython",
    "version": 3
   },
   "file_extension": ".py",
   "mimetype": "text/x-python",
   "name": "python",
   "nbconvert_exporter": "python",
   "pygments_lexer": "ipython3",
   "version": "3.8.10"
  },
  "orig_nbformat": 4,
  "vscode": {
   "interpreter": {
    "hash": "f544ce1a915a9875fad91c894e2c0bcad4b7a79945aa6027ef3ad27810072aa6"
   }
  }
 },
 "nbformat": 4,
 "nbformat_minor": 2
}
